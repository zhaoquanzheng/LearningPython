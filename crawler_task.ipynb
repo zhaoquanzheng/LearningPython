{
 "cells": [
  {
   "cell_type": "code",
   "execution_count": 2,
   "metadata": {},
   "outputs": [
    {
     "name": "stdout",
     "output_type": "stream",
     "text": [
      "Requirement already satisfied: beautifulsoup4 in c:\\programdata\\anaconda3\\lib\\site-packages\n"
     ]
    },
    {
     "name": "stderr",
     "output_type": "stream",
     "text": [
      "You are using pip version 9.0.1, however version 18.1 is available.\n",
      "You should consider upgrading via the 'python -m pip install --upgrade pip' command.\n"
     ]
    },
    {
     "name": "stdout",
     "output_type": "stream",
     "text": [
      "Requirement already satisfied: lxml in c:\\programdata\\anaconda3\\lib\\site-packages\n"
     ]
    },
    {
     "name": "stderr",
     "output_type": "stream",
     "text": [
      "You are using pip version 9.0.1, however version 18.1 is available.\n",
      "You should consider upgrading via the 'python -m pip install --upgrade pip' command.\n"
     ]
    }
   ],
   "source": [
    "import sys\n",
    "!{sys.executable} -m pip install beautifulsoup4\n",
    "!{sys.executable} -m pip install lxml"
   ]
  },
  {
   "cell_type": "code",
   "execution_count": 28,
   "metadata": {},
   "outputs": [
    {
     "name": "stdout",
     "output_type": "stream",
     "text": [
      "<_io.TextIOWrapper name='C:\\\\Users\\\\Zhao Zheng\\\\Documents\\\\UNSW\\\\COMP3900\\\\stackexchange_data\\\\TravelMetaPosts.xml' mode='r' encoding='utf8'>\n"
     ]
    }
   ],
   "source": [
    "from bs4 import BeautifulSoup\n",
    "filename = \"C:\\\\Users\\\\Zhao Zheng\\\\Documents\\\\UNSW\\\\COMP3900\\\\stackexchange_data\\\\TravelMetaPosts.xml\"\n",
    "with open(filename,encoding='utf8') as fp:\n",
    "    print(fp)\n",
    "    soup = BeautifulSoup(fp,'xml')"
   ]
  },
  {
   "cell_type": "code",
   "execution_count": 41,
   "metadata": {},
   "outputs": [],
   "source": [
    "rows = soup.find_all('row')\n",
    "l = []\n",
    "for r in rows:\n",
    "    try:\n",
    "        l.append({'title':r['Title'],'views':r['ViewCount']})\n",
    "    except KeyError:\n",
    "        pass"
   ]
  },
  {
   "cell_type": "code",
   "execution_count": 44,
   "metadata": {},
   "outputs": [
    {
     "data": {
      "text/plain": [
       "[{'title': '\"Transportation\" Tag too broad?', 'views': '69'},\n",
       " {'title': 'Flyertalk level of questions?', 'views': '127'},\n",
       " {'title': \"Are 'recommendation' questions on topic?\", 'views': '180'},\n",
       " {'title': 'Convention for Location Tags', 'views': '97'},\n",
       " {'title': 'Are questions that will go out of date \"on topic\" for this site?',\n",
       "  'views': '179'},\n",
       " {'title': 'Localized Questions', 'views': '285'},\n",
       " {'title': 'Color gamma for statistics', 'views': '54'},\n",
       " {'title': 'Proposal: Remove the \"international-travel\" tag', 'views': '141'},\n",
       " {'title': 'Should I only upvote answer if I would have answered the same thing?',\n",
       "  'views': '105'},\n",
       " {'title': \"Do we need to use the 'Europe' tag even when discussing just one European country?\",\n",
       "  'views': '106'}]"
      ]
     },
     "execution_count": 44,
     "metadata": {},
     "output_type": "execute_result"
    }
   ],
   "source": [
    "l[:10]\n",
    "#Limit the number of entries shown to not clog up when on git hub"
   ]
  },
  {
   "cell_type": "code",
   "execution_count": 45,
   "metadata": {},
   "outputs": [
    {
     "data": {
      "text/plain": [
       "[{'title': 'Visa Rejection versus Visa Refusal (proposed tags)',\n",
       "  'views': '9651'},\n",
       " {'title': \"Wikitravel vs Wikivoyage - what's going to be the difference?\",\n",
       "  'views': '4369'},\n",
       " {'title': 'How to ask: How to obtain a visa for Nigeria, how long and at what cost?',\n",
       "  'views': '4361'},\n",
       " {'title': 'Horizontal lines appear when viewing site with Internet Explorer 11',\n",
       "  'views': '3695'},\n",
       " {'title': 'What is meant by \"amicably resolve issues\" on this site?',\n",
       "  'views': '2352'},\n",
       " {'title': 'Design for Travel Stack Exchange', 'views': '1827'},\n",
       " {'title': 'Have we visited all the countries / territories as a community?',\n",
       "  'views': '1757'},\n",
       " {'title': 'tips-and-tricks - definition required', 'views': '1725'},\n",
       " {'title': 'The definitive \"how to travel with multiple passports\" Q&A',\n",
       "  'views': '1687'},\n",
       " {'title': 'Do we need to completely reform our mod team?', 'views': '1500'}]"
      ]
     },
     "execution_count": 45,
     "metadata": {},
     "output_type": "execute_result"
    }
   ],
   "source": [
    "text = sorted(l,key=lambda x: int(x['views']),reverse=True)\n",
    "text[:10]"
   ]
  },
  {
   "cell_type": "code",
   "execution_count": 47,
   "metadata": {},
   "outputs": [
    {
     "name": "stdout",
     "output_type": "stream",
     "text": [
      "3\n",
      "Certificate error while loading site for first time\n",
      "Visa Rejection versus Visa Refusal (proposed tags)\n",
      "Wikitravel vs Wikivoyage - what's going to be the difference?\n"
     ]
    }
   ],
   "source": [
    "#Possible application of use\n",
    "n = int(input())\n",
    "for i in range(n):\n",
    "    print(text[i-1]['title'])"
   ]
  },
  {
   "cell_type": "code",
   "execution_count": 37,
   "metadata": {},
   "outputs": [
    {
     "name": "stdout",
     "output_type": "stream",
     "text": [
      "Do we need to completely reform our mod team?\n"
     ]
    }
   ],
   "source": [
    "print(text[9]['title'])"
   ]
  }
 ],
 "metadata": {
  "kernelspec": {
   "display_name": "Python 3",
   "language": "python",
   "name": "python3"
  },
  "language_info": {
   "codemirror_mode": {
    "name": "ipython",
    "version": 3
   },
   "file_extension": ".py",
   "mimetype": "text/x-python",
   "name": "python",
   "nbconvert_exporter": "python",
   "pygments_lexer": "ipython3",
   "version": "3.6.3"
  }
 },
 "nbformat": 4,
 "nbformat_minor": 2
}
